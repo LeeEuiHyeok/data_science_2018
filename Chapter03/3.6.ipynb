{
 "cells": [
  {
   "cell_type": "markdown",
   "metadata": {},
   "source": [
    "### 요약 및 정리\n",
    "- Estimator (추정기)\n",
    "  - scikit-learn에서 학 학습 모델 및 알고리즘을 포함하고 있는 클래스"
   ]
  },
  {
   "cell_type": "code",
   "execution_count": 1,
   "metadata": {
    "collapsed": true
   },
   "outputs": [],
   "source": [
    "from sklearn.linear_model import LogisticRegression\n",
    "logreg = LogisticRegression()"
   ]
  },
  {
   "cell_type": "markdown",
   "metadata": {},
   "source": [
    "- Estimator 모델 객체 구성시 지정하는 매개변수\n",
    "  - 규제\n",
    "  - 복잡도 제어\n",
    "  - 클러스터 개수\n",
    "- Estimator.fit\n",
    "  - 모델 구성\n",
    "  - 첫번째 매개변수로 훈련 데이터 X 필요\n",
    "  - 지도 학습일 때에는 두 번째 매개변수로 타깃 데이터 y 지정 필요\n",
    "- Estimator.predict\n",
    "  - 새로운 타깃 예측 데이터 y_pred 생성\n",
    "- Estimator.transform\n",
    "  - 입력 데이터 X의 새로운 표현 형태 생성"
   ]
  },
  {
   "cell_type": "markdown",
   "metadata": {},
   "source": [
    "![api_table](images/api_table.png)"
   ]
  }
 ],
 "metadata": {
  "kernelspec": {
   "display_name": "Python 3",
   "language": "python",
   "name": "python3"
  },
  "language_info": {
   "codemirror_mode": {
    "name": "ipython",
    "version": 3
   },
   "file_extension": ".py",
   "mimetype": "text/x-python",
   "name": "python",
   "nbconvert_exporter": "python",
   "pygments_lexer": "ipython3",
   "version": "3.6.1"
  }
 },
 "nbformat": 4,
 "nbformat_minor": 2
}
